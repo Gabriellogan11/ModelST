{
 "cells": [
  {
   "cell_type": "markdown",
   "metadata": {},
   "source": [
    "### Bibliotecas"
   ]
  },
  {
   "cell_type": "code",
   "execution_count": 24,
   "metadata": {},
   "outputs": [],
   "source": [
    "import pandas as pd\n",
    "import json\n",
    "import logging\n",
    "import os\n",
    "from cryptography.fernet import Fernet\n",
    "from sklearn.model_selection import train_test_split\n",
    "from sklearn.ensemble import RandomForestClassifier\n",
    "from sklearn.svm import SVC\n",
    "from sklearn.neural_network import MLPClassifier  # Red Neuronal en Scikit-learn\n",
    "from sklearn.preprocessing import StandardScaler\n",
    "from sklearn.metrics import accuracy_score, classification_report, confusion_matrix\n",
    "import streamlit as st\n",
    "import numpy as np\n",
    "import plotly.express as px\n",
    "import plotly.graph_objects as go\n",
    "from sklearn.decomposition import PCA\n",
    "from sklearn.manifold import TSNE\n",
    "import umap.umap_ as umap"
   ]
  },
  {
   "cell_type": "markdown",
   "metadata": {},
   "source": [
    "### Auditorias"
   ]
  },
  {
   "cell_type": "code",
   "execution_count": 25,
   "metadata": {},
   "outputs": [],
   "source": [
    "logging.basicConfig(filename=\"audit_log.txt\", level=logging.INFO, format=\"%(asctime)s - %(message)s\")"
   ]
  },
  {
   "cell_type": "markdown",
   "metadata": {},
   "source": [
    "### Roles"
   ]
  },
  {
   "cell_type": "code",
   "execution_count": 26,
   "metadata": {},
   "outputs": [],
   "source": [
    "config = {\n",
    "    \"admin\": {\"access_level\": \"full\"},\n",
    "    \"user\": {\"access_level\": \"restricted\"}\n",
    "}\n",
    "\n",
    "with open(\"config.json\", \"w\") as f:\n",
    "    json.dump(config, f)\n",
    "\n",
    "# Cargar configuración de roles\n",
    "with open(\"config.json\", \"r\") as f:\n",
    "    roles = json.load(f)"
   ]
  },
  {
   "cell_type": "markdown",
   "metadata": {},
   "source": [
    "### Claves cifrado"
   ]
  },
  {
   "cell_type": "code",
   "execution_count": 27,
   "metadata": {},
   "outputs": [],
   "source": [
    "key = Fernet.generate_key()\n",
    "cipher_suite = Fernet(key)"
   ]
  },
  {
   "cell_type": "markdown",
   "metadata": {},
   "source": [
    "### Verificacion"
   ]
  },
  {
   "cell_type": "code",
   "execution_count": 28,
   "metadata": {},
   "outputs": [],
   "source": [
    "def check_access(role):\n",
    "    \"\"\"Verifica los permisos de los roles.\"\"\"\n",
    "    if role not in roles:\n",
    "        logging.warning(f\"Acceso denegado: Rol {role} no registrado\")\n",
    "        raise PermissionError(\"Acceso denegado: Rol no registrado\")\n",
    "    return roles[role][\"access_level\"]\n",
    "\n",
    "def encrypt_data(data):\n",
    "    \"\"\"Cifra datos sensibles.\"\"\"\n",
    "    return cipher_suite.encrypt(data.encode()).decode()\n",
    "\n",
    "def decrypt_data(encrypted_data):\n",
    "    \"\"\"Descifra datos sensibles.\"\"\"\n",
    "    return cipher_suite.decrypt(encrypted_data.encode()).decode()"
   ]
  },
  {
   "cell_type": "markdown",
   "metadata": {},
   "source": [
    "### Backup"
   ]
  },
  {
   "cell_type": "code",
   "execution_count": 29,
   "metadata": {},
   "outputs": [],
   "source": [
    "def backup_data(df, filename=\"backup_data.csv\"):\n",
    "    \"\"\"Realiza un backup de los datos.\"\"\"\n",
    "    df.to_csv(filename, index=False)\n",
    "    logging.info(f\"Backup realizado con éxito en {filename}\")"
   ]
  },
  {
   "cell_type": "markdown",
   "metadata": {},
   "source": [
    "### Extraccion y limpieza"
   ]
  },
  {
   "cell_type": "code",
   "execution_count": 30,
   "metadata": {},
   "outputs": [],
   "source": [
    "url = \"https://raw.githubusercontent.com/Gabriellogan11/test/main/emp_attrition.csv\"\n",
    "df = pd.read_csv(url)\n",
    "\n",
    "logging.info(\"Datos extraidos con éxito.\")\n",
    "\n",
    "# Ejecutamos el backup\n",
    "backup_data(df)"
   ]
  },
  {
   "cell_type": "markdown",
   "metadata": {},
   "source": [
    "### Cifrado"
   ]
  },
  {
   "cell_type": "code",
   "execution_count": 31,
   "metadata": {},
   "outputs": [],
   "source": [
    "df[\"MonthlyIncome\"] = df[\"MonthlyIncome\"].astype(str).apply(encrypt_data)\n",
    "logging.info(\"Datos cifrados correctamente.\")"
   ]
  },
  {
   "cell_type": "markdown",
   "metadata": {},
   "source": [
    "### Guardar datos procesados"
   ]
  },
  {
   "cell_type": "code",
   "execution_count": 32,
   "metadata": {},
   "outputs": [],
   "source": [
    "df.to_csv(\"datos_procesados.csv\", index=False)\n",
    "logging.info(\"Datos procesados guardados en datos_procesados.csv\")"
   ]
  },
  {
   "cell_type": "markdown",
   "metadata": {},
   "source": [
    "### Streamlit"
   ]
  },
  {
   "cell_type": "code",
   "execution_count": 33,
   "metadata": {},
   "outputs": [
    {
     "name": "stderr",
     "output_type": "stream",
     "text": [
      "2025-03-05 16:26:58.863 Thread 'MainThread': missing ScriptRunContext! This warning can be ignored when running in bare mode.\n",
      "2025-03-05 16:26:58.864 Thread 'MainThread': missing ScriptRunContext! This warning can be ignored when running in bare mode.\n",
      "2025-03-05 16:26:58.865 Thread 'MainThread': missing ScriptRunContext! This warning can be ignored when running in bare mode.\n",
      "2025-03-05 16:26:58.865 Thread 'MainThread': missing ScriptRunContext! This warning can be ignored when running in bare mode.\n",
      "2025-03-05 16:26:58.866 Thread 'MainThread': missing ScriptRunContext! This warning can be ignored when running in bare mode.\n",
      "2025-03-05 16:26:58.867 Thread 'MainThread': missing ScriptRunContext! This warning can be ignored when running in bare mode.\n",
      "2025-03-05 16:26:58.868 Thread 'MainThread': missing ScriptRunContext! This warning can be ignored when running in bare mode.\n",
      "2025-03-05 16:26:58.868 Thread 'MainThread': missing ScriptRunContext! This warning can be ignored when running in bare mode.\n"
     ]
    }
   ],
   "source": [
    "# Crear una aplicación Streamlit\n",
    "st.title(\"Data Pipeline con Random Forest, SVM y Red Neuronal\")\n",
    "\n",
    "# Selección de la variable objetivo\n",
    "target_column = st.selectbox(\"Selecciona la variable objetivo\", df.columns)\n",
    "\n",
    "# Actualizar los datos para el modelado\n",
    "if df[target_column].dtype == 'object':\n",
    "    unique_values = df[target_column].unique()\n",
    "    if len(unique_values) == 2:\n",
    "        df[target_column] = df[target_column].map({unique_values[0]: 0, unique_values[1]: 1})\n",
    "    else:\n",
    "        st.error(\"La columna seleccionada no es binaria (debe tener exactamente 2 valores únicos).\")\n",
    "        st.stop()\n",
    "\n",
    "numeric_columns = df.select_dtypes(include=['number']).columns\n",
    "X = df[numeric_columns].drop(columns=[target_column])  # Excluir la columna seleccionada como target\n",
    "y = df[target_column]\n",
    "\n",
    "# Dividir los datos en conjuntos de entrenamiento y prueba\n",
    "X_train, X_test, y_train, y_test = train_test_split(X, y, test_size=0.4, random_state=42)\n",
    "\n",
    "# Escalar características\n",
    "scaler = StandardScaler()\n",
    "X_train = scaler.fit_transform(X_train)\n",
    "X_test = scaler.transform(X_test)\n",
    "\n",
    "logging.info(\"Datos escalados correctamente.\")"
   ]
  },
  {
   "cell_type": "markdown",
   "metadata": {},
   "source": [
    "### Entrenamiento Random Forest"
   ]
  },
  {
   "cell_type": "code",
   "execution_count": 34,
   "metadata": {},
   "outputs": [
    {
     "name": "stderr",
     "output_type": "stream",
     "text": [
      "c:\\Users\\jarqu\\Desktop\\Estructuras\\myenv\\Lib\\site-packages\\sklearn\\metrics\\_classification.py:1565: UndefinedMetricWarning:\n",
      "\n",
      "Precision is ill-defined and being set to 0.0 in labels with no predicted samples. Use `zero_division` parameter to control this behavior.\n",
      "\n",
      "c:\\Users\\jarqu\\Desktop\\Estructuras\\myenv\\Lib\\site-packages\\sklearn\\metrics\\_classification.py:1565: UndefinedMetricWarning:\n",
      "\n",
      "Precision is ill-defined and being set to 0.0 in labels with no predicted samples. Use `zero_division` parameter to control this behavior.\n",
      "\n",
      "c:\\Users\\jarqu\\Desktop\\Estructuras\\myenv\\Lib\\site-packages\\sklearn\\metrics\\_classification.py:1565: UndefinedMetricWarning:\n",
      "\n",
      "Precision is ill-defined and being set to 0.0 in labels with no predicted samples. Use `zero_division` parameter to control this behavior.\n",
      "\n"
     ]
    }
   ],
   "source": [
    "# Crear y entrenar el modelo\n",
    "rf_model = RandomForestClassifier(n_estimators=100, random_state=42)\n",
    "rf_model.fit(X_train, y_train)\n",
    "\n",
    "# Realizar predicciones\n",
    "y_pred_rf = rf_model.predict(X_test)\n",
    "\n",
    "# Evaluar el modelo\n",
    "accuracy_rf = accuracy_score(y_test, y_pred_rf)\n",
    "report_rf = classification_report(y_test, y_pred_rf)\n",
    "\n",
    "# Matriz de confusión para Random Forest\n",
    "cm_rf = confusion_matrix(y_test, y_pred_rf)"
   ]
  },
  {
   "cell_type": "markdown",
   "metadata": {},
   "source": [
    "### Entrenamiento SVM"
   ]
  },
  {
   "cell_type": "code",
   "execution_count": 35,
   "metadata": {},
   "outputs": [
    {
     "name": "stderr",
     "output_type": "stream",
     "text": [
      "c:\\Users\\jarqu\\Desktop\\Estructuras\\myenv\\Lib\\site-packages\\sklearn\\metrics\\_classification.py:1565: UndefinedMetricWarning:\n",
      "\n",
      "Precision is ill-defined and being set to 0.0 in labels with no predicted samples. Use `zero_division` parameter to control this behavior.\n",
      "\n",
      "c:\\Users\\jarqu\\Desktop\\Estructuras\\myenv\\Lib\\site-packages\\sklearn\\metrics\\_classification.py:1565: UndefinedMetricWarning:\n",
      "\n",
      "Precision is ill-defined and being set to 0.0 in labels with no predicted samples. Use `zero_division` parameter to control this behavior.\n",
      "\n",
      "c:\\Users\\jarqu\\Desktop\\Estructuras\\myenv\\Lib\\site-packages\\sklearn\\metrics\\_classification.py:1565: UndefinedMetricWarning:\n",
      "\n",
      "Precision is ill-defined and being set to 0.0 in labels with no predicted samples. Use `zero_division` parameter to control this behavior.\n",
      "\n"
     ]
    }
   ],
   "source": [
    "# Crear y entrenar el modelo SVM\n",
    "svm_model = SVC(kernel='linear', random_state=42)\n",
    "svm_model.fit(X_train, y_train)\n",
    "\n",
    "# Realizar predicciones\n",
    "y_pred_svm = svm_model.predict(X_test)\n",
    "\n",
    "# Evaluar el modelo\n",
    "accuracy_svm = accuracy_score(y_test, y_pred_svm)\n",
    "report_svm = classification_report(y_test, y_pred_svm)\n",
    "\n",
    "# Matriz de confusión para SVM\n",
    "cm_svm = confusion_matrix(y_test, y_pred_svm)"
   ]
  },
  {
   "cell_type": "markdown",
   "metadata": {},
   "source": [
    "### Entrenamiento de la Red Neuronal (MLPClassifier)"
   ]
  },
  {
   "cell_type": "code",
   "execution_count": 36,
   "metadata": {},
   "outputs": [
    {
     "name": "stderr",
     "output_type": "stream",
     "text": [
      "c:\\Users\\jarqu\\Desktop\\Estructuras\\myenv\\Lib\\site-packages\\sklearn\\metrics\\_classification.py:1565: UndefinedMetricWarning:\n",
      "\n",
      "Precision is ill-defined and being set to 0.0 in labels with no predicted samples. Use `zero_division` parameter to control this behavior.\n",
      "\n",
      "c:\\Users\\jarqu\\Desktop\\Estructuras\\myenv\\Lib\\site-packages\\sklearn\\metrics\\_classification.py:1565: UndefinedMetricWarning:\n",
      "\n",
      "Precision is ill-defined and being set to 0.0 in labels with no predicted samples. Use `zero_division` parameter to control this behavior.\n",
      "\n",
      "c:\\Users\\jarqu\\Desktop\\Estructuras\\myenv\\Lib\\site-packages\\sklearn\\metrics\\_classification.py:1565: UndefinedMetricWarning:\n",
      "\n",
      "Precision is ill-defined and being set to 0.0 in labels with no predicted samples. Use `zero_division` parameter to control this behavior.\n",
      "\n"
     ]
    }
   ],
   "source": [
    "# Crear y entrenar el modelo\n",
    "nn_model = MLPClassifier(hidden_layer_sizes=(64, 32), activation='relu', solver='adam', max_iter=1000, random_state=42)\n",
    "nn_model.fit(X_train, y_train)\n",
    "\n",
    "# Realizar predicciones\n",
    "y_pred_nn = nn_model.predict(X_test)\n",
    "\n",
    "# Evaluar el modelo\n",
    "accuracy_nn = accuracy_score(y_test, y_pred_nn)\n",
    "report_nn = classification_report(y_test, y_pred_nn)\n",
    "\n",
    "# Matriz de confusión para la Red Neuronal\n",
    "cm_nn = confusion_matrix(y_test, y_pred_nn)"
   ]
  },
  {
   "cell_type": "markdown",
   "metadata": {},
   "source": [
    "### Funciones para gráficos"
   ]
  },
  {
   "cell_type": "code",
   "execution_count": 37,
   "metadata": {},
   "outputs": [],
   "source": [
    "def plot_decision_boundary_2d(model, X, y, title):\n",
    "    \"\"\"Grafica la frontera de decisión en 2D usando PCA.\"\"\"\n",
    "    pca = PCA(n_components=2)\n",
    "    X_pca = pca.fit_transform(X)\n",
    "    \n",
    "    # Crear un meshgrid para la frontera de decisión\n",
    "    x_min, x_max = X_pca[:, 0].min() - 1, X_pca[:, 0].max() + 1\n",
    "    y_min, y_max = X_pca[:, 1].min() - 1, X_pca[:, 1].max() + 1\n",
    "    xx, yy = np.meshgrid(np.arange(x_min, x_max, 0.1),\n",
    "                         np.arange(y_min, y_max, 0.1))\n",
    "    \n",
    "    # Predecir la clase para cada punto en el meshgrid\n",
    "    mesh_points = np.c_[xx.ravel(), yy.ravel()]\n",
    "    Z = model.predict(pca.inverse_transform(mesh_points))\n",
    "    Z = Z.reshape(xx.shape)\n",
    "    \n",
    "    # Crear el gráfico 2D\n",
    "    fig = go.Figure(data=[\n",
    "        go.Scatter(x=X_pca[:, 0], y=X_pca[:, 1], mode='markers',\n",
    "                  marker=dict(size=8, color=y, colorscale='Viridis', opacity=0.8)),\n",
    "        go.Contour(x=np.arange(x_min, x_max, 0.1), y=np.arange(y_min, y_max, 0.1), z=Z,\n",
    "                  colorscale='Blues', opacity=0.3, showscale=False)\n",
    "    ])\n",
    "    fig.update_layout(title=title, xaxis_title=\"PC1\", yaxis_title=\"PC2\")\n",
    "    return fig\n",
    "\n",
    "def plot_decision_boundary_3d(model, X, y, title):\n",
    "    \"\"\"Grafica la frontera de decisión en 3D usando PCA.\"\"\"\n",
    "    pca = PCA(n_components=3)\n",
    "    X_pca = pca.fit_transform(X)\n",
    "    \n",
    "    # Crear un meshgrid en 3D\n",
    "    x_min, x_max = X_pca[:, 0].min() - 1, X_pca[:, 0].max() + 1\n",
    "    y_min, y_max = X_pca[:, 1].min() - 1, X_pca[:, 1].max() + 1\n",
    "    z_min, z_max = X_pca[:, 2].min() - 1, X_pca[:, 2].max() + 1\n",
    "    xx, yy, zz = np.meshgrid(np.arange(x_min, x_max, 0.1),\n",
    "                             np.arange(y_min, y_max, 0.1),\n",
    "                             np.arange(z_min, z_max, 0.1))\n",
    "    \n",
    "    # Predecir la clase para cada punto en el meshgrid\n",
    "    mesh_points = np.c_[xx.ravel(), yy.ravel(), zz.ravel()]\n",
    "    Z = model.predict(pca.inverse_transform(mesh_points))\n",
    "    Z = Z.reshape(xx.shape)\n",
    "    \n",
    "    # Crear el gráfico 3D\n",
    "    fig = go.Figure(data=[\n",
    "        go.Scatter3d(x=X_pca[:, 0], y=X_pca[:, 1], z=X_pca[:, 2], mode='markers',\n",
    "                     marker=dict(size=5, color=y, colorscale='Viridis', opacity=0.8)),\n",
    "        go.Isosurface(x=xx.flatten(), y=yy.flatten(), z=zz.flatten(), value=Z.flatten(),\n",
    "                      isomin=0.5, isomax=1.5, surface_count=1, opacity=0.3, colorscale='Blues')\n",
    "    ])\n",
    "    fig.update_layout(scene=dict(xaxis_title='PC1', yaxis_title='PC2', zaxis_title='PC3'),\n",
    "                      title=title)\n",
    "    return fig\n",
    "\n",
    "def plot_scatter_2d(X, y, title):\n",
    "    \"\"\"Gráfico de dispersión en 2D.\"\"\"\n",
    "    pca = PCA(n_components=2)\n",
    "    X_pca = pca.fit_transform(X)\n",
    "    fig = px.scatter(x=X_pca[:, 0], y=X_pca[:, 1], color=y, title=title,\n",
    "                     labels={\"x\": \"Componente 1\", \"y\": \"Componente 2\"})\n",
    "    return fig\n",
    "\n",
    "def plot_scatter_3d(X, y, title):\n",
    "    \"\"\"Gráfico de dispersión en 3D.\"\"\"\n",
    "    pca = PCA(n_components=3)\n",
    "    X_pca = pca.fit_transform(X)\n",
    "    fig = px.scatter_3d(x=X_pca[:, 0], y=X_pca[:, 1], z=X_pca[:, 2], color=y, title=title,\n",
    "                        labels={\"x\": \"Componente 1\", \"y\": \"Componente 2\", \"z\": \"Componente 3\"})\n",
    "    return fig\n",
    "\n",
    "def plot_tsne(X, y, title):\n",
    "    \"\"\"Gráfico de t-SNE para reducción de dimensionalidad.\"\"\"\n",
    "    tsne = TSNE(n_components=2, random_state=42)\n",
    "    X_tsne = tsne.fit_transform(X)\n",
    "    fig = px.scatter(x=X_tsne[:, 0], y=X_tsne[:, 1], color=y, title=title,\n",
    "                     labels={\"x\": \"t-SNE 1\", \"y\": \"t-SNE 2\"})\n",
    "    return fig\n",
    "\n",
    "def plot_umap(X, y, title):\n",
    "    \"\"\"Gráfico de UMAP para reducción de dimensionalidad.\"\"\"\n",
    "    reducer = umap.UMAP(random_state=42)  # Configura UMAP\n",
    "    X_umap = reducer.fit_transform(X)  # Aplica UMAP a los datos\n",
    "    fig = px.scatter(x=X_umap[:, 0], y=X_umap[:, 1], color=y, title=title,\n",
    "                     labels={\"x\": \"UMAP 1\", \"y\": \"UMAP 2\"})\n",
    "    return fig"
   ]
  },
  {
   "cell_type": "markdown",
   "metadata": {},
   "source": [
    "### Streamlit settings"
   ]
  },
  {
   "cell_type": "code",
   "execution_count": 38,
   "metadata": {},
   "outputs": [
    {
     "name": "stderr",
     "output_type": "stream",
     "text": [
      "2025-03-05 16:27:02.008 Thread 'MainThread': missing ScriptRunContext! This warning can be ignored when running in bare mode.\n",
      "2025-03-05 16:27:02.009 Thread 'MainThread': missing ScriptRunContext! This warning can be ignored when running in bare mode.\n",
      "2025-03-05 16:27:02.009 Thread 'MainThread': missing ScriptRunContext! This warning can be ignored when running in bare mode.\n",
      "2025-03-05 16:27:02.010 Thread 'MainThread': missing ScriptRunContext! This warning can be ignored when running in bare mode.\n",
      "2025-03-05 16:27:02.011 Thread 'MainThread': missing ScriptRunContext! This warning can be ignored when running in bare mode.\n",
      "2025-03-05 16:27:02.011 Thread 'MainThread': missing ScriptRunContext! This warning can be ignored when running in bare mode.\n",
      "2025-03-05 16:27:02.011 Thread 'MainThread': missing ScriptRunContext! This warning can be ignored when running in bare mode.\n",
      "2025-03-05 16:27:02.012 Thread 'MainThread': missing ScriptRunContext! This warning can be ignored when running in bare mode.\n",
      "2025-03-05 16:27:02.012 Thread 'MainThread': missing ScriptRunContext! This warning can be ignored when running in bare mode.\n",
      "2025-03-05 16:27:02.012 Thread 'MainThread': missing ScriptRunContext! This warning can be ignored when running in bare mode.\n",
      "2025-03-05 16:27:02.013 Thread 'MainThread': missing ScriptRunContext! This warning can be ignored when running in bare mode.\n",
      "2025-03-05 16:27:02.013 Thread 'MainThread': missing ScriptRunContext! This warning can be ignored when running in bare mode.\n",
      "2025-03-05 16:27:02.014 Thread 'MainThread': missing ScriptRunContext! This warning can be ignored when running in bare mode.\n",
      "2025-03-05 16:27:02.014 Thread 'MainThread': missing ScriptRunContext! This warning can be ignored when running in bare mode.\n",
      "2025-03-05 16:27:02.015 Thread 'MainThread': missing ScriptRunContext! This warning can be ignored when running in bare mode.\n",
      "2025-03-05 16:27:02.015 Thread 'MainThread': missing ScriptRunContext! This warning can be ignored when running in bare mode.\n",
      "2025-03-05 16:27:02.015 Thread 'MainThread': missing ScriptRunContext! This warning can be ignored when running in bare mode.\n",
      "2025-03-05 16:27:02.016 Thread 'MainThread': missing ScriptRunContext! This warning can be ignored when running in bare mode.\n",
      "2025-03-05 16:27:02.032 Thread 'MainThread': missing ScriptRunContext! This warning can be ignored when running in bare mode.\n",
      "2025-03-05 16:27:02.032 Thread 'MainThread': missing ScriptRunContext! This warning can be ignored when running in bare mode.\n",
      "2025-03-05 16:27:02.033 Thread 'MainThread': missing ScriptRunContext! This warning can be ignored when running in bare mode.\n",
      "2025-03-05 16:27:02.033 Thread 'MainThread': missing ScriptRunContext! This warning can be ignored when running in bare mode.\n",
      "2025-03-05 16:27:02.033 Thread 'MainThread': missing ScriptRunContext! This warning can be ignored when running in bare mode.\n",
      "2025-03-05 16:27:02.034 Thread 'MainThread': missing ScriptRunContext! This warning can be ignored when running in bare mode.\n",
      "2025-03-05 16:27:02.034 Thread 'MainThread': missing ScriptRunContext! This warning can be ignored when running in bare mode.\n",
      "2025-03-05 16:27:02.034 Thread 'MainThread': missing ScriptRunContext! This warning can be ignored when running in bare mode.\n",
      "2025-03-05 16:27:02.035 Thread 'MainThread': missing ScriptRunContext! This warning can be ignored when running in bare mode.\n",
      "2025-03-05 16:27:02.035 Thread 'MainThread': missing ScriptRunContext! This warning can be ignored when running in bare mode.\n",
      "2025-03-05 16:27:02.035 Thread 'MainThread': missing ScriptRunContext! This warning can be ignored when running in bare mode.\n",
      "2025-03-05 16:27:02.035 Thread 'MainThread': missing ScriptRunContext! This warning can be ignored when running in bare mode.\n",
      "2025-03-05 16:27:02.036 Thread 'MainThread': missing ScriptRunContext! This warning can be ignored when running in bare mode.\n",
      "2025-03-05 16:27:02.037 Thread 'MainThread': missing ScriptRunContext! This warning can be ignored when running in bare mode.\n",
      "2025-03-05 16:27:02.054 Thread 'MainThread': missing ScriptRunContext! This warning can be ignored when running in bare mode.\n",
      "2025-03-05 16:27:02.055 Thread 'MainThread': missing ScriptRunContext! This warning can be ignored when running in bare mode.\n",
      "2025-03-05 16:27:02.056 Thread 'MainThread': missing ScriptRunContext! This warning can be ignored when running in bare mode.\n",
      "2025-03-05 16:27:02.056 Thread 'MainThread': missing ScriptRunContext! This warning can be ignored when running in bare mode.\n",
      "2025-03-05 16:27:02.056 Thread 'MainThread': missing ScriptRunContext! This warning can be ignored when running in bare mode.\n",
      "2025-03-05 16:27:02.057 Thread 'MainThread': missing ScriptRunContext! This warning can be ignored when running in bare mode.\n",
      "2025-03-05 16:27:02.057 Thread 'MainThread': missing ScriptRunContext! This warning can be ignored when running in bare mode.\n",
      "2025-03-05 16:27:02.057 Thread 'MainThread': missing ScriptRunContext! This warning can be ignored when running in bare mode.\n",
      "2025-03-05 16:27:02.058 Thread 'MainThread': missing ScriptRunContext! This warning can be ignored when running in bare mode.\n",
      "2025-03-05 16:27:02.058 Thread 'MainThread': missing ScriptRunContext! This warning can be ignored when running in bare mode.\n",
      "2025-03-05 16:27:02.058 Thread 'MainThread': missing ScriptRunContext! This warning can be ignored when running in bare mode.\n",
      "2025-03-05 16:27:02.059 Thread 'MainThread': missing ScriptRunContext! This warning can be ignored when running in bare mode.\n",
      "2025-03-05 16:27:02.059 Thread 'MainThread': missing ScriptRunContext! This warning can be ignored when running in bare mode.\n",
      "2025-03-05 16:27:02.059 Thread 'MainThread': missing ScriptRunContext! This warning can be ignored when running in bare mode.\n",
      "2025-03-05 16:27:02.059 Thread 'MainThread': missing ScriptRunContext! This warning can be ignored when running in bare mode.\n",
      "2025-03-05 16:27:02.060 Thread 'MainThread': missing ScriptRunContext! This warning can be ignored when running in bare mode.\n",
      "2025-03-05 16:27:02.060 Thread 'MainThread': missing ScriptRunContext! This warning can be ignored when running in bare mode.\n",
      "2025-03-05 16:27:02.060 Thread 'MainThread': missing ScriptRunContext! This warning can be ignored when running in bare mode.\n",
      "2025-03-05 16:27:02.076 Thread 'MainThread': missing ScriptRunContext! This warning can be ignored when running in bare mode.\n",
      "2025-03-05 16:27:02.076 Thread 'MainThread': missing ScriptRunContext! This warning can be ignored when running in bare mode.\n",
      "2025-03-05 16:27:02.077 Thread 'MainThread': missing ScriptRunContext! This warning can be ignored when running in bare mode.\n",
      "2025-03-05 16:27:02.077 Thread 'MainThread': missing ScriptRunContext! This warning can be ignored when running in bare mode.\n",
      "2025-03-05 16:27:02.078 Thread 'MainThread': missing ScriptRunContext! This warning can be ignored when running in bare mode.\n",
      "2025-03-05 16:27:02.078 Thread 'MainThread': missing ScriptRunContext! This warning can be ignored when running in bare mode.\n",
      "2025-03-05 16:27:02.079 Thread 'MainThread': missing ScriptRunContext! This warning can be ignored when running in bare mode.\n",
      "2025-03-05 16:27:02.079 Thread 'MainThread': missing ScriptRunContext! This warning can be ignored when running in bare mode.\n",
      "2025-03-05 16:27:02.079 Thread 'MainThread': missing ScriptRunContext! This warning can be ignored when running in bare mode.\n",
      "2025-03-05 16:27:02.080 Thread 'MainThread': missing ScriptRunContext! This warning can be ignored when running in bare mode.\n",
      "2025-03-05 16:27:02.080 Thread 'MainThread': missing ScriptRunContext! This warning can be ignored when running in bare mode.\n",
      "2025-03-05 16:27:02.080 Thread 'MainThread': missing ScriptRunContext! This warning can be ignored when running in bare mode.\n",
      "2025-03-05 16:27:02.081 Thread 'MainThread': missing ScriptRunContext! This warning can be ignored when running in bare mode.\n",
      "2025-03-05 16:27:02.082 Thread 'MainThread': missing ScriptRunContext! This warning can be ignored when running in bare mode.\n",
      "2025-03-05 16:27:02.099 Thread 'MainThread': missing ScriptRunContext! This warning can be ignored when running in bare mode.\n",
      "2025-03-05 16:27:02.100 Thread 'MainThread': missing ScriptRunContext! This warning can be ignored when running in bare mode.\n",
      "2025-03-05 16:27:02.101 Thread 'MainThread': missing ScriptRunContext! This warning can be ignored when running in bare mode.\n",
      "2025-03-05 16:27:02.101 Thread 'MainThread': missing ScriptRunContext! This warning can be ignored when running in bare mode.\n",
      "2025-03-05 16:27:02.101 Thread 'MainThread': missing ScriptRunContext! This warning can be ignored when running in bare mode.\n",
      "2025-03-05 16:27:02.102 Thread 'MainThread': missing ScriptRunContext! This warning can be ignored when running in bare mode.\n",
      "2025-03-05 16:27:02.102 Thread 'MainThread': missing ScriptRunContext! This warning can be ignored when running in bare mode.\n",
      "2025-03-05 16:27:02.102 Thread 'MainThread': missing ScriptRunContext! This warning can be ignored when running in bare mode.\n",
      "2025-03-05 16:27:02.103 Thread 'MainThread': missing ScriptRunContext! This warning can be ignored when running in bare mode.\n",
      "2025-03-05 16:27:02.103 Thread 'MainThread': missing ScriptRunContext! This warning can be ignored when running in bare mode.\n",
      "2025-03-05 16:27:02.103 Thread 'MainThread': missing ScriptRunContext! This warning can be ignored when running in bare mode.\n",
      "2025-03-05 16:27:02.104 Thread 'MainThread': missing ScriptRunContext! This warning can be ignored when running in bare mode.\n",
      "2025-03-05 16:27:02.104 Thread 'MainThread': missing ScriptRunContext! This warning can be ignored when running in bare mode.\n",
      "2025-03-05 16:27:02.104 Thread 'MainThread': missing ScriptRunContext! This warning can be ignored when running in bare mode.\n",
      "2025-03-05 16:27:02.105 Thread 'MainThread': missing ScriptRunContext! This warning can be ignored when running in bare mode.\n",
      "2025-03-05 16:27:02.105 Thread 'MainThread': missing ScriptRunContext! This warning can be ignored when running in bare mode.\n",
      "2025-03-05 16:27:02.105 Thread 'MainThread': missing ScriptRunContext! This warning can be ignored when running in bare mode.\n",
      "2025-03-05 16:27:02.107 Thread 'MainThread': missing ScriptRunContext! This warning can be ignored when running in bare mode.\n",
      "2025-03-05 16:27:02.121 Thread 'MainThread': missing ScriptRunContext! This warning can be ignored when running in bare mode.\n",
      "2025-03-05 16:27:02.122 Thread 'MainThread': missing ScriptRunContext! This warning can be ignored when running in bare mode.\n",
      "2025-03-05 16:27:02.122 Thread 'MainThread': missing ScriptRunContext! This warning can be ignored when running in bare mode.\n",
      "2025-03-05 16:27:02.123 Thread 'MainThread': missing ScriptRunContext! This warning can be ignored when running in bare mode.\n",
      "2025-03-05 16:27:02.123 Thread 'MainThread': missing ScriptRunContext! This warning can be ignored when running in bare mode.\n",
      "2025-03-05 16:27:02.124 Thread 'MainThread': missing ScriptRunContext! This warning can be ignored when running in bare mode.\n",
      "2025-03-05 16:27:02.124 Thread 'MainThread': missing ScriptRunContext! This warning can be ignored when running in bare mode.\n",
      "2025-03-05 16:27:02.124 Thread 'MainThread': missing ScriptRunContext! This warning can be ignored when running in bare mode.\n",
      "2025-03-05 16:27:02.125 Thread 'MainThread': missing ScriptRunContext! This warning can be ignored when running in bare mode.\n",
      "2025-03-05 16:27:02.125 Thread 'MainThread': missing ScriptRunContext! This warning can be ignored when running in bare mode.\n",
      "2025-03-05 16:27:02.126 Thread 'MainThread': missing ScriptRunContext! This warning can be ignored when running in bare mode.\n",
      "2025-03-05 16:27:02.126 Thread 'MainThread': missing ScriptRunContext! This warning can be ignored when running in bare mode.\n",
      "2025-03-05 16:27:02.126 Thread 'MainThread': missing ScriptRunContext! This warning can be ignored when running in bare mode.\n",
      "2025-03-05 16:27:02.127 Thread 'MainThread': missing ScriptRunContext! This warning can be ignored when running in bare mode.\n",
      "2025-03-05 16:27:02.144 Thread 'MainThread': missing ScriptRunContext! This warning can be ignored when running in bare mode.\n",
      "2025-03-05 16:27:02.145 Thread 'MainThread': missing ScriptRunContext! This warning can be ignored when running in bare mode.\n",
      "2025-03-05 16:27:02.145 Thread 'MainThread': missing ScriptRunContext! This warning can be ignored when running in bare mode.\n",
      "2025-03-05 16:27:02.146 Thread 'MainThread': missing ScriptRunContext! This warning can be ignored when running in bare mode.\n"
     ]
    }
   ],
   "source": [
    "tab1, tab2, tab3 = st.tabs([\"Random Forest\", \"SVM\", \"Red Neuronal\"])\n",
    "\n",
    "# Función para mostrar gráficos en cada pestaña\n",
    "def display_model_tab(model, X_train, y_train, X_test, y_test, accuracy, report, cm, model_name):\n",
    "    st.header(model_name)\n",
    "    st.write(f\"Precisión del modelo {model_name}:\", accuracy)\n",
    "    st.write(f\"Reporte de clasificación {model_name}:\")\n",
    "    st.text(report)\n",
    "\n",
    "    # Mostrar matriz de confusión\n",
    "    st.subheader(f\"Matriz de Confusión - {model_name}\")\n",
    "    fig_cm = px.imshow(cm, text_auto=True, labels=dict(x=\"Predicción\", y=\"Real\", color=\"Cantidad\"),\n",
    "                       x=model.classes_, y=model.classes_)\n",
    "    st.plotly_chart(fig_cm)\n",
    "\n",
    "    # Selección de gráfico\n",
    "    st.subheader(f\"Selecciona el tipo de gráfico para {model_name}\")\n",
    "    graph_type = st.selectbox(\"Tipo de gráfico\", \n",
    "                              [\"2D - PCA\", \"3D - PCA\", \"t-SNE\", \"UMAP\", \"Frontera de Decisión 2D\", \"Frontera de Decisión 3D\"],\n",
    "                              key=f\"{model_name}_graph\")\n",
    "\n",
    "    if graph_type == \"2D - PCA\":\n",
    "        st.subheader(f\"Gráfico de Dispersión 2D (PCA) - {model_name}\")\n",
    "        fig = plot_scatter_2d(X_train, y_train, f\"Dispersión 2D (PCA) - {model_name}\")\n",
    "        st.plotly_chart(fig)\n",
    "    elif graph_type == \"3D - PCA\":\n",
    "        st.subheader(f\"Gráfico de Dispersión 3D (PCA) - {model_name}\")\n",
    "        fig = plot_scatter_3d(X_train, y_train, f\"Dispersión 3D (PCA) - {model_name}\")\n",
    "        st.plotly_chart(fig)\n",
    "    elif graph_type == \"t-SNE\":\n",
    "        st.subheader(f\"Gráfico de t-SNE - {model_name}\")\n",
    "        fig = plot_tsne(X_train, y_train, f\"t-SNE - {model_name}\")\n",
    "        st.plotly_chart(fig)\n",
    "    elif graph_type == \"UMAP\":\n",
    "        st.subheader(f\"Gráfico de UMAP - {model_name}\")\n",
    "        fig = plot_umap(X_train, y_train, f\"UMAP - {model_name}\")\n",
    "        st.plotly_chart(fig)\n",
    "    elif graph_type == \"Frontera de Decisión 2D\":\n",
    "        st.subheader(f\"Frontera de Decisión 2D - {model_name}\")\n",
    "        fig = plot_decision_boundary_2d(model, X_train, y_train, f\"Frontera de Decisión 2D - {model_name}\")\n",
    "        st.plotly_chart(fig)\n",
    "    elif graph_type == \"Frontera de Decisión 3D\":\n",
    "        st.subheader(f\"Frontera de Decisión 3D - {model_name}\")\n",
    "        fig = plot_decision_boundary_3d(model, X_train, y_train, f\"Frontera de Decisión 3D - {model_name}\")\n",
    "        st.plotly_chart(fig)\n",
    "\n",
    "# Contenido de la pestaña de Random Forest\n",
    "with tab1:\n",
    "    display_model_tab(rf_model, X_train, y_train, X_test, y_test, accuracy_rf, report_rf, cm_rf, \"Random Forest\")\n",
    "\n",
    "# Contenido de la pestaña de SVM\n",
    "with tab2:\n",
    "    display_model_tab(svm_model, X_train, y_train, X_test, y_test, accuracy_svm, report_svm, cm_svm, \"SVM\")\n",
    "\n",
    "# Contenido de la pestaña de Red Neuronal\n",
    "with tab3:\n",
    "    display_model_tab(nn_model, X_train, y_train, X_test, y_test, accuracy_nn, report_nn, cm_nn, \"Red Neuronal\")"
   ]
  },
  {
   "cell_type": "markdown",
   "metadata": {},
   "source": [
    "### Convertir Notebook a .py"
   ]
  },
  {
   "cell_type": "code",
   "execution_count": 1,
   "metadata": {},
   "outputs": [
    {
     "name": "stderr",
     "output_type": "stream",
     "text": [
      "[NbConvertApp] Converting notebook modeloST2.ipynb to script\n",
      "[NbConvertApp] Writing 11884 bytes to modeloST2.py\n"
     ]
    }
   ],
   "source": [
    "!jupyter nbconvert --to script modeloST2.ipynb"
   ]
  },
  {
   "cell_type": "markdown",
   "metadata": {},
   "source": [
    "### Correr el streamlit"
   ]
  },
  {
   "cell_type": "code",
   "execution_count": 2,
   "metadata": {},
   "outputs": [
    {
     "name": "stdout",
     "output_type": "stream",
     "text": [
      "^C\n"
     ]
    }
   ],
   "source": [
    "!streamlit run modeloST2.py"
   ]
  }
 ],
 "metadata": {
  "kernelspec": {
   "display_name": "myenv",
   "language": "python",
   "name": "python3"
  },
  "language_info": {
   "codemirror_mode": {
    "name": "ipython",
    "version": 3
   },
   "file_extension": ".py",
   "mimetype": "text/x-python",
   "name": "python",
   "nbconvert_exporter": "python",
   "pygments_lexer": "ipython3",
   "version": "3.12.9"
  }
 },
 "nbformat": 4,
 "nbformat_minor": 2
}
